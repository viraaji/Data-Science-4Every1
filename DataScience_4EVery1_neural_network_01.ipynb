{
  "nbformat": 4,
  "nbformat_minor": 0,
  "metadata": {
    "colab": {
      "provenance": [],
      "authorship_tag": "ABX9TyOlz12q/5lA+V2cpCzSPibL",
      "include_colab_link": true
    },
    "kernelspec": {
      "name": "python3",
      "display_name": "Python 3"
    },
    "language_info": {
      "name": "python"
    }
  },
  "cells": [
    {
      "cell_type": "markdown",
      "metadata": {
        "id": "view-in-github",
        "colab_type": "text"
      },
      "source": [
        "<a href=\"https://colab.research.google.com/github/viraaji/Data-Science-4Every1/blob/develop/DataScience_4EVery1_neural_network_01.ipynb\" target=\"_parent\"><img src=\"https://colab.research.google.com/assets/colab-badge.svg\" alt=\"Open In Colab\"/></a>"
      ]
    },
    {
      "cell_type": "code",
      "execution_count": null,
      "metadata": {
        "colab": {
          "base_uri": "https://localhost:8080/",
          "height": 597
        },
        "id": "G1TQCUUScfi4",
        "outputId": "95e79dae-f8ef-4223-abde-7e0da5089c30"
      },
      "outputs": [
        {
          "output_type": "stream",
          "name": "stdout",
          "text": [
            "Downloading data from https://storage.googleapis.com/tensorflow/tf-keras-datasets/mnist.npz\n",
            "11490434/11490434 [==============================] - 0s 0us/step\n",
            "Training data shape:  (60000, 28, 28)\n",
            "Training labels shape:  (60000,)\n",
            "Testing data shape:  (10000, 28, 28)\n",
            "Testing labels shape:  (10000,)\n"
          ]
        },
        {
          "output_type": "display_data",
          "data": {
            "text/plain": [
              "<Figure size 1200x600 with 10 Axes>"
            ],
            "image/png": "[encoded data removed]"
          },
          "metadata": {}
        }
      ],
      "source": [
        "import numpy as np\n",
        "import matplotlib.pyplot as plt\n",
        "from keras.datasets import mnist\n",
        "import os\n",
        "\n",
        "# Load the MNIST dataset\n",
        "(X_train, y_train), (X_test, y_test) = mnist.load_data()\n",
        "\n",
        "# Print the shape of the training and testing data\n",
        "print(\"Training data shape: \", X_train.shape) # (60000, 28, 28)\n",
        "print(\"Training labels shape: \", y_train.shape) # (60000,)\n",
        "print(\"Testing data shape: \", X_test.shape) # (10000, 28, 28)\n",
        "print(\"Testing labels shape: \", y_test.shape) # (10000,)\n",
        "\n",
        "# Visualize some examples from the dataset\n",
        "fig, axes = plt.subplots(2, 5, figsize=(12, 6))\n",
        "for i, ax in enumerate(axes.ravel()):\n",
        "    ax.imshow(X_train[i], cmap='gray')\n",
        "    ax.set_title(\"Label: {}\".format(y_train[i]))\n",
        "plt.show()\n"
      ]
    },
    {
      "cell_type": "code",
      "source": [
        "import numpy as np\n",
        "from keras.datasets import mnist\n",
        "from keras.models import Sequential\n",
        "from keras.layers import Dense, Flatten\n",
        "from keras.utils import to_categorical\n",
        "\n",
        "# Load the MNIST dataset\n",
        "(X_train, y_train), (X_test, y_test) = mnist.load_data()\n",
        "\n",
        "# Preprocess the data\n",
        "X_train = X_train.astype('float32') / 255.\n",
        "X_test = X_test.astype('float32') / 255.\n",
        "y_train = to_categorical(y_train, num_classes=10)\n",
        "y_test = to_categorical(y_test, num_classes=10)\n",
        "\n",
        "# Define the neural network model\n",
        "model = Sequential()\n",
        "model.add(Flatten(input_shape=(28, 28)))\n",
        "model.add(Dense(128, activation='relu'))\n",
        "model.add(Dense(10, activation='softmax'))\n",
        "\n",
        "# Compile the model\n",
        "model.compile(loss='categorical_crossentropy',\n",
        "              optimizer='adam',\n",
        "              metrics=['accuracy'])\n",
        "\n",
        "# Train the model\n",
        "model.fit(X_train, y_train,\n",
        "          batch_size=32,\n",
        "          epochs=10,\n",
        "          validation_data=(X_test, y_test))\n",
        "\n",
        "# Evaluate the model on the test set\n",
        "score = model.evaluate(X_test, y_test, verbose=0)\n",
        "print('Test loss:', score[0])\n",
        "print('Test accuracy:', score[1])\n"
      ],
      "metadata": {
        "colab": {
          "base_uri": "https://localhost:8080/"
        },
        "id": "DjhyIzy9c2Ue",
        "outputId": "05495dea-c04f-4c2d-c632-119a37ab6ac2"
      },
      "execution_count": null,
      "outputs": [
        {
          "output_type": "stream",
          "name": "stdout",
          "text": [
            "Epoch 1/10\n",
            "1875/1875 [==============================] - 12s 5ms/step - loss: 0.2672 - accuracy: 0.9235 - val_loss: 0.1372 - val_accuracy: 0.9579\n",
            "Epoch 2/10\n",
            "1875/1875 [==============================] - 13s 7ms/step - loss: 0.1173 - accuracy: 0.9653 - val_loss: 0.1092 - val_accuracy: 0.9690\n",
            "Epoch 3/10\n",
            "1875/1875 [==============================] - 12s 7ms/step - loss: 0.0814 - accuracy: 0.9751 - val_loss: 0.0826 - val_accuracy: 0.9752\n",
            "Epoch 4/10\n",
            "1875/1875 [==============================] - 14s 7ms/step - loss: 0.0601 - accuracy: 0.9815 - val_loss: 0.0907 - val_accuracy: 0.9709\n",
            "Epoch 5/10\n",
            "1875/1875 [==============================] - 8s 4ms/step - loss: 0.0461 - accuracy: 0.9858 - val_loss: 0.0752 - val_accuracy: 0.9765\n",
            "Epoch 6/10\n",
            "1875/1875 [==============================] - 10s 5ms/step - loss: 0.0363 - accuracy: 0.9887 - val_loss: 0.0739 - val_accuracy: 0.9774\n",
            "Epoch 7/10\n",
            "1875/1875 [==============================] - 10s 5ms/step - loss: 0.0291 - accuracy: 0.9916 - val_loss: 0.0837 - val_accuracy: 0.9744\n",
            "Epoch 8/10\n",
            "1875/1875 [==============================] - 14s 8ms/step - loss: 0.0241 - accuracy: 0.9925 - val_loss: 0.0984 - val_accuracy: 0.9734\n",
            "Epoch 9/10\n",
            "1875/1875 [==============================] - 9s 5ms/step - loss: 0.0199 - accuracy: 0.9942 - val_loss: 0.1052 - val_accuracy: 0.9726\n",
            "Epoch 10/10\n",
            "1875/1875 [==============================] - 7s 4ms/step - loss: 0.0160 - accuracy: 0.9949 - val_loss: 0.0894 - val_accuracy: 0.9758\n",
            "Test loss: 0.08935420960187912\n",
            "Test accuracy: 0.9757999777793884\n"
          ]
        }
      ]
    },
    {
      "cell_type": "code",
      "source": [
        "import torch\n",
        "import torch.nn as nn\n",
        "import torch.optim as optim\n",
        "from torch.utils.data import DataLoader\n",
        "from torchvision.datasets import MNIST\n",
        "from torchvision.transforms import ToTensor\n",
        "from sklearn.metrics import accuracy_score\n",
        "\n",
        "# Define the neural network model\n",
        "class Net(nn.Module):\n",
        "    def __init__(self):\n",
        "        super(Net, self).__init__()\n",
        "        self.flatten = nn.Flatten()\n",
        "        self.linear1 = nn.Linear(28 * 28, 128)\n",
        "        self.relu = nn.ReLU()\n",
        "        self.linear2 = nn.Linear(128, 10)\n",
        "\n",
        "    def forward(self, x):\n",
        "        x = self.flatten(x)\n",
        "        x = self.linear1(x)\n",
        "        x = self.relu(x)\n",
        "        x = self.linear2(x)\n",
        "        return x\n",
        "\n",
        "# Load the MNIST dataset\n",
        "train_dataset = MNIST(root='data/', train=True, transform=ToTensor(), download=True)\n",
        "test_dataset = MNIST(root='data/', train=False, transform=ToTensor(), download=True)\n",
        "\n",
        "# Create data loaders\n",
        "train_loader = DataLoader(train_dataset, batch_size=32, shuffle=True)\n",
        "test_loader = DataLoader(test_dataset, batch_size=32, shuffle=False)\n",
        "\n",
        "\n",
        "\n",
        "# Train the model\n",
        "device = torch.device(\"cuda\" if torch.cuda.is_available() else \"cpu\")\n",
        "model_pytorch = Net().to(device)\n",
        "\n",
        "# Define the loss function, optimizer, and evaluation metric\n",
        "criterion = nn.CrossEntropyLoss()\n",
        "optimizer = optim.Adam(model_pytorch.parameters(), lr=0.001)\n",
        "\n",
        "\n",
        "\n",
        "\n"
      ],
      "metadata": {
        "colab": {
          "base_uri": "https://localhost:8080/"
        },
        "id": "K0Lzv6KZdWn9",
        "outputId": "bd3cfaed-1a04-4855-c986-44d7d6e925a6"
      },
      "execution_count": null,
      "outputs": [
        {
          "output_type": "stream",
          "name": "stdout",
          "text": [
            "Downloading http://yann.lecun.com/exdb/mnist/train-images-idx3-ubyte.gz\n",
            "Downloading http://yann.lecun.com/exdb/mnist/train-images-idx3-ubyte.gz to data/MNIST/raw/train-images-idx3-ubyte.gz\n"
          ]
        },
        {
          "output_type": "stream",
          "name": "stderr",
          "text": [
            "100%|██████████| 9912422/9912422 [00:00<00:00, 148505898.14it/s]"
          ]
        },
        {
          "output_type": "stream",
          "name": "stdout",
          "text": [
            "Extracting data/MNIST/raw/train-images-idx3-ubyte.gz to data/MNIST/raw\n"
          ]
        },
        {
          "output_type": "stream",
          "name": "stderr",
          "text": [
            "\n"
          ]
        },
        {
          "output_type": "stream",
          "name": "stdout",
          "text": [
            "\n",
            "Downloading http://yann.lecun.com/exdb/mnist/train-labels-idx1-ubyte.gz\n",
            "Downloading http://yann.lecun.com/exdb/mnist/train-labels-idx1-ubyte.gz to data/MNIST/raw/train-labels-idx1-ubyte.gz\n"
          ]
        },
        {
          "output_type": "stream",
          "name": "stderr",
          "text": [
            "100%|██████████| 28881/28881 [00:00<00:00, 28903768.51it/s]\n"
          ]
        },
        {
          "output_type": "stream",
          "name": "stdout",
          "text": [
            "Extracting data/MNIST/raw/train-labels-idx1-ubyte.gz to data/MNIST/raw\n",
            "\n",
            "Downloading http://yann.lecun.com/exdb/mnist/t10k-images-idx3-ubyte.gz\n",
            "Downloading http://yann.lecun.com/exdb/mnist/t10k-images-idx3-ubyte.gz to data/MNIST/raw/t10k-images-idx3-ubyte.gz\n"
          ]
        },
        {
          "output_type": "stream",
          "name": "stderr",
          "text": [
            "100%|██████████| 1648877/1648877 [00:00<00:00, 33361913.93it/s]"
          ]
        },
        {
          "output_type": "stream",
          "name": "stdout",
          "text": [
            "Extracting data/MNIST/raw/t10k-images-idx3-ubyte.gz to data/MNIST/raw\n"
          ]
        },
        {
          "output_type": "stream",
          "name": "stderr",
          "text": [
            "\n"
          ]
        },
        {
          "output_type": "stream",
          "name": "stdout",
          "text": [
            "\n",
            "Downloading http://yann.lecun.com/exdb/mnist/t10k-labels-idx1-ubyte.gz\n",
            "Downloading http://yann.lecun.com/exdb/mnist/t10k-labels-idx1-ubyte.gz to data/MNIST/raw/t10k-labels-idx1-ubyte.gz\n"
          ]
        },
        {
          "output_type": "stream",
          "name": "stderr",
          "text": [
            "100%|██████████| 4542/4542 [00:00<00:00, 11752331.13it/s]\n"
          ]
        },
        {
          "output_type": "stream",
          "name": "stdout",
          "text": [
            "Extracting data/MNIST/raw/t10k-labels-idx1-ubyte.gz to data/MNIST/raw\n",
            "\n"
          ]
        }
      ]
    },
    {
      "cell_type": "code",
      "source": [
        "def train(model_pytorch):\n",
        "    for epoch in range(10):\n",
        "        for batch_idx, (data, target) in enumerate(train_loader):\n",
        "            data, target = data.to(device), target.to(device)\n",
        "            optimizer.zero_grad()\n",
        "            output = model_pytorch(data)\n",
        "            loss = criterion(output, target)\n",
        "            loss.backward()\n",
        "            optimizer.step()\n",
        "            if batch_idx % 100 == 0:\n",
        "                print('Epoch: {} [{}/{} ({:.0f}%)]\\tLoss: {:.6f}'.format(\n",
        "                    epoch, batch_idx * len(data), len(train_loader.dataset),\n",
        "                    100. * batch_idx / len(train_loader), loss.item()))\n",
        "    return model_pytorch     "
      ],
      "metadata": {
        "id": "2V88hjZhzwem"
      },
      "execution_count": null,
      "outputs": []
    },
    {
      "cell_type": "code",
      "source": [
        "model_pytorch = train(model_pytorch)"
      ],
      "metadata": {
        "colab": {
          "base_uri": "https://localhost:8080/"
        },
        "id": "nEocwuc6z5gT",
        "outputId": "7a749755-7aae-4884-ec54-b7238e16da12"
      },
      "execution_count": null,
      "outputs": [
        {
          "output_type": "stream",
          "name": "stdout",
          "text": [
            "Epoch: 0 [0/60000 (0%)]\tLoss: 2.271872\n",
            "Epoch: 0 [3200/60000 (5%)]\tLoss: 0.413832\n",
            "Epoch: 0 [6400/60000 (11%)]\tLoss: 0.686479\n",
            "Epoch: 0 [9600/60000 (16%)]\tLoss: 0.293724\n",
            "Epoch: 0 [12800/60000 (21%)]\tLoss: 0.241269\n",
            "Epoch: 0 [16000/60000 (27%)]\tLoss: 0.519075\n",
            "Epoch: 0 [19200/60000 (32%)]\tLoss: 0.203205\n",
            "Epoch: 0 [22400/60000 (37%)]\tLoss: 0.294024\n",
            "Epoch: 0 [25600/60000 (43%)]\tLoss: 0.210935\n",
            "Epoch: 0 [28800/60000 (48%)]\tLoss: 0.539604\n",
            "Epoch: 0 [32000/60000 (53%)]\tLoss: 0.354437\n",
            "Epoch: 0 [35200/60000 (59%)]\tLoss: 0.315527\n",
            "Epoch: 0 [38400/60000 (64%)]\tLoss: 0.050244\n",
            "Epoch: 0 [41600/60000 (69%)]\tLoss: 0.086236\n",
            "Epoch: 0 [44800/60000 (75%)]\tLoss: 0.361484\n",
            "Epoch: 0 [48000/60000 (80%)]\tLoss: 0.454665\n",
            "Epoch: 0 [51200/60000 (85%)]\tLoss: 0.077826\n",
            "Epoch: 0 [54400/60000 (91%)]\tLoss: 0.149504\n",
            "Epoch: 0 [57600/60000 (96%)]\tLoss: 0.422001\n",
            "Epoch: 1 [0/60000 (0%)]\tLoss: 0.257920\n",
            "Epoch: 1 [3200/60000 (5%)]\tLoss: 0.190629\n",
            "Epoch: 1 [6400/60000 (11%)]\tLoss: 0.018342\n",
            "Epoch: 1 [9600/60000 (16%)]\tLoss: 0.214661\n",
            "Epoch: 1 [12800/60000 (21%)]\tLoss: 0.528533\n",
            "Epoch: 1 [16000/60000 (27%)]\tLoss: 0.263286\n",
            "Epoch: 1 [19200/60000 (32%)]\tLoss: 0.078546\n",
            "Epoch: 1 [22400/60000 (37%)]\tLoss: 0.039934\n",
            "Epoch: 1 [25600/60000 (43%)]\tLoss: 0.042890\n",
            "Epoch: 1 [28800/60000 (48%)]\tLoss: 0.124572\n",
            "Epoch: 1 [32000/60000 (53%)]\tLoss: 0.057611\n",
            "Epoch: 1 [35200/60000 (59%)]\tLoss: 0.208280\n",
            "Epoch: 1 [38400/60000 (64%)]\tLoss: 0.135366\n",
            "Epoch: 1 [41600/60000 (69%)]\tLoss: 0.030602\n",
            "Epoch: 1 [44800/60000 (75%)]\tLoss: 0.083030\n",
            "Epoch: 1 [48000/60000 (80%)]\tLoss: 0.356574\n",
            "Epoch: 1 [51200/60000 (85%)]\tLoss: 0.086592\n",
            "Epoch: 1 [54400/60000 (91%)]\tLoss: 0.028526\n",
            "Epoch: 1 [57600/60000 (96%)]\tLoss: 0.070928\n",
            "Epoch: 2 [0/60000 (0%)]\tLoss: 0.079599\n",
            "Epoch: 2 [3200/60000 (5%)]\tLoss: 0.083996\n",
            "Epoch: 2 [6400/60000 (11%)]\tLoss: 0.023663\n",
            "Epoch: 2 [9600/60000 (16%)]\tLoss: 0.067902\n",
            "Epoch: 2 [12800/60000 (21%)]\tLoss: 0.197239\n",
            "Epoch: 2 [16000/60000 (27%)]\tLoss: 0.109057\n",
            "Epoch: 2 [19200/60000 (32%)]\tLoss: 0.017620\n",
            "Epoch: 2 [22400/60000 (37%)]\tLoss: 0.110219\n",
            "Epoch: 2 [25600/60000 (43%)]\tLoss: 0.033760\n",
            "Epoch: 2 [28800/60000 (48%)]\tLoss: 0.266186\n",
            "Epoch: 2 [32000/60000 (53%)]\tLoss: 0.023801\n",
            "Epoch: 2 [35200/60000 (59%)]\tLoss: 0.083531\n",
            "Epoch: 2 [38400/60000 (64%)]\tLoss: 0.080382\n",
            "Epoch: 2 [41600/60000 (69%)]\tLoss: 0.013676\n",
            "Epoch: 2 [44800/60000 (75%)]\tLoss: 0.036026\n",
            "Epoch: 2 [48000/60000 (80%)]\tLoss: 0.030769\n",
            "Epoch: 2 [51200/60000 (85%)]\tLoss: 0.117693\n",
            "Epoch: 2 [54400/60000 (91%)]\tLoss: 0.057256\n",
            "Epoch: 2 [57600/60000 (96%)]\tLoss: 0.012354\n",
            "Epoch: 3 [0/60000 (0%)]\tLoss: 0.061879\n",
            "Epoch: 3 [3200/60000 (5%)]\tLoss: 0.032116\n",
            "Epoch: 3 [6400/60000 (11%)]\tLoss: 0.012921\n",
            "Epoch: 3 [9600/60000 (16%)]\tLoss: 0.047128\n",
            "Epoch: 3 [12800/60000 (21%)]\tLoss: 0.015468\n",
            "Epoch: 3 [16000/60000 (27%)]\tLoss: 0.090677\n",
            "Epoch: 3 [19200/60000 (32%)]\tLoss: 0.006354\n",
            "Epoch: 3 [22400/60000 (37%)]\tLoss: 0.223450\n",
            "Epoch: 3 [25600/60000 (43%)]\tLoss: 0.013276\n",
            "Epoch: 3 [28800/60000 (48%)]\tLoss: 0.123768\n",
            "Epoch: 3 [32000/60000 (53%)]\tLoss: 0.073995\n",
            "Epoch: 3 [35200/60000 (59%)]\tLoss: 0.043997\n",
            "Epoch: 3 [38400/60000 (64%)]\tLoss: 0.185418\n",
            "Epoch: 3 [41600/60000 (69%)]\tLoss: 0.061791\n",
            "Epoch: 3 [44800/60000 (75%)]\tLoss: 0.049499\n",
            "Epoch: 3 [48000/60000 (80%)]\tLoss: 0.011381\n",
            "Epoch: 3 [51200/60000 (85%)]\tLoss: 0.050738\n",
            "Epoch: 3 [54400/60000 (91%)]\tLoss: 0.174983\n",
            "Epoch: 3 [57600/60000 (96%)]\tLoss: 0.214496\n",
            "Epoch: 4 [0/60000 (0%)]\tLoss: 0.100540\n",
            "Epoch: 4 [3200/60000 (5%)]\tLoss: 0.126943\n",
            "Epoch: 4 [6400/60000 (11%)]\tLoss: 0.016676\n",
            "Epoch: 4 [9600/60000 (16%)]\tLoss: 0.156480\n",
            "Epoch: 4 [12800/60000 (21%)]\tLoss: 0.019220\n",
            "Epoch: 4 [16000/60000 (27%)]\tLoss: 0.166407\n",
            "Epoch: 4 [19200/60000 (32%)]\tLoss: 0.008025\n",
            "Epoch: 4 [22400/60000 (37%)]\tLoss: 0.033910\n",
            "Epoch: 4 [25600/60000 (43%)]\tLoss: 0.108092\n",
            "Epoch: 4 [28800/60000 (48%)]\tLoss: 0.024017\n",
            "Epoch: 4 [32000/60000 (53%)]\tLoss: 0.021906\n",
            "Epoch: 4 [35200/60000 (59%)]\tLoss: 0.036123\n",
            "Epoch: 4 [38400/60000 (64%)]\tLoss: 0.021154\n",
            "Epoch: 4 [41600/60000 (69%)]\tLoss: 0.083656\n",
            "Epoch: 4 [44800/60000 (75%)]\tLoss: 0.129506\n",
            "Epoch: 4 [48000/60000 (80%)]\tLoss: 0.039315\n",
            "Epoch: 4 [51200/60000 (85%)]\tLoss: 0.031046\n",
            "Epoch: 4 [54400/60000 (91%)]\tLoss: 0.012134\n",
            "Epoch: 4 [57600/60000 (96%)]\tLoss: 0.053270\n",
            "Epoch: 5 [0/60000 (0%)]\tLoss: 0.011254\n",
            "Epoch: 5 [3200/60000 (5%)]\tLoss: 0.043701\n",
            "Epoch: 5 [6400/60000 (11%)]\tLoss: 0.013168\n",
            "Epoch: 5 [9600/60000 (16%)]\tLoss: 0.004927\n",
            "Epoch: 5 [12800/60000 (21%)]\tLoss: 0.045988\n",
            "Epoch: 5 [16000/60000 (27%)]\tLoss: 0.023831\n",
            "Epoch: 5 [19200/60000 (32%)]\tLoss: 0.027331\n",
            "Epoch: 5 [22400/60000 (37%)]\tLoss: 0.020855\n",
            "Epoch: 5 [25600/60000 (43%)]\tLoss: 0.042040\n",
            "Epoch: 5 [28800/60000 (48%)]\tLoss: 0.059703\n",
            "Epoch: 5 [32000/60000 (53%)]\tLoss: 0.040398\n",
            "Epoch: 5 [35200/60000 (59%)]\tLoss: 0.037797\n",
            "Epoch: 5 [38400/60000 (64%)]\tLoss: 0.034455\n",
            "Epoch: 5 [41600/60000 (69%)]\tLoss: 0.043608\n",
            "Epoch: 5 [44800/60000 (75%)]\tLoss: 0.064258\n",
            "Epoch: 5 [48000/60000 (80%)]\tLoss: 0.088742\n",
            "Epoch: 5 [51200/60000 (85%)]\tLoss: 0.068414\n",
            "Epoch: 5 [54400/60000 (91%)]\tLoss: 0.022909\n",
            "Epoch: 5 [57600/60000 (96%)]\tLoss: 0.021828\n",
            "Epoch: 6 [0/60000 (0%)]\tLoss: 0.003848\n",
            "Epoch: 6 [3200/60000 (5%)]\tLoss: 0.018519\n",
            "Epoch: 6 [6400/60000 (11%)]\tLoss: 0.012471\n",
            "Epoch: 6 [9600/60000 (16%)]\tLoss: 0.015300\n",
            "Epoch: 6 [12800/60000 (21%)]\tLoss: 0.009258\n",
            "Epoch: 6 [16000/60000 (27%)]\tLoss: 0.061837\n",
            "Epoch: 6 [19200/60000 (32%)]\tLoss: 0.085538\n",
            "Epoch: 6 [22400/60000 (37%)]\tLoss: 0.008534\n",
            "Epoch: 6 [25600/60000 (43%)]\tLoss: 0.011607\n",
            "Epoch: 6 [28800/60000 (48%)]\tLoss: 0.028273\n",
            "Epoch: 6 [32000/60000 (53%)]\tLoss: 0.010540\n",
            "Epoch: 6 [35200/60000 (59%)]\tLoss: 0.002907\n",
            "Epoch: 6 [38400/60000 (64%)]\tLoss: 0.056022\n",
            "Epoch: 6 [41600/60000 (69%)]\tLoss: 0.003782\n",
            "Epoch: 6 [44800/60000 (75%)]\tLoss: 0.001766\n",
            "Epoch: 6 [48000/60000 (80%)]\tLoss: 0.058997\n",
            "Epoch: 6 [51200/60000 (85%)]\tLoss: 0.087717\n",
            "Epoch: 6 [54400/60000 (91%)]\tLoss: 0.033512\n",
            "Epoch: 6 [57600/60000 (96%)]\tLoss: 0.021588\n",
            "Epoch: 7 [0/60000 (0%)]\tLoss: 0.054246\n",
            "Epoch: 7 [3200/60000 (5%)]\tLoss: 0.003576\n",
            "Epoch: 7 [6400/60000 (11%)]\tLoss: 0.003770\n",
            "Epoch: 7 [9600/60000 (16%)]\tLoss: 0.010964\n",
            "Epoch: 7 [12800/60000 (21%)]\tLoss: 0.006833\n",
            "Epoch: 7 [16000/60000 (27%)]\tLoss: 0.005887\n",
            "Epoch: 7 [19200/60000 (32%)]\tLoss: 0.023925\n",
            "Epoch: 7 [22400/60000 (37%)]\tLoss: 0.150996\n",
            "Epoch: 7 [25600/60000 (43%)]\tLoss: 0.035694\n",
            "Epoch: 7 [28800/60000 (48%)]\tLoss: 0.081504\n",
            "Epoch: 7 [32000/60000 (53%)]\tLoss: 0.023692\n",
            "Epoch: 7 [35200/60000 (59%)]\tLoss: 0.074161\n",
            "Epoch: 7 [38400/60000 (64%)]\tLoss: 0.002941\n",
            "Epoch: 7 [41600/60000 (69%)]\tLoss: 0.130774\n",
            "Epoch: 7 [44800/60000 (75%)]\tLoss: 0.022654\n",
            "Epoch: 7 [48000/60000 (80%)]\tLoss: 0.021611\n",
            "Epoch: 7 [51200/60000 (85%)]\tLoss: 0.000987\n",
            "Epoch: 7 [54400/60000 (91%)]\tLoss: 0.003508\n",
            "Epoch: 7 [57600/60000 (96%)]\tLoss: 0.052533\n",
            "Epoch: 8 [0/60000 (0%)]\tLoss: 0.001948\n",
            "Epoch: 8 [3200/60000 (5%)]\tLoss: 0.015554\n",
            "Epoch: 8 [6400/60000 (11%)]\tLoss: 0.023252\n",
            "Epoch: 8 [9600/60000 (16%)]\tLoss: 0.007521\n",
            "Epoch: 8 [12800/60000 (21%)]\tLoss: 0.000905\n",
            "Epoch: 8 [16000/60000 (27%)]\tLoss: 0.131787\n",
            "Epoch: 8 [19200/60000 (32%)]\tLoss: 0.002528\n",
            "Epoch: 8 [22400/60000 (37%)]\tLoss: 0.014716\n",
            "Epoch: 8 [25600/60000 (43%)]\tLoss: 0.020975\n",
            "Epoch: 8 [28800/60000 (48%)]\tLoss: 0.003404\n",
            "Epoch: 8 [32000/60000 (53%)]\tLoss: 0.016754\n",
            "Epoch: 8 [35200/60000 (59%)]\tLoss: 0.015677\n",
            "Epoch: 8 [38400/60000 (64%)]\tLoss: 0.001222\n",
            "Epoch: 8 [41600/60000 (69%)]\tLoss: 0.156954\n",
            "Epoch: 8 [44800/60000 (75%)]\tLoss: 0.003797\n",
            "Epoch: 8 [48000/60000 (80%)]\tLoss: 0.106072\n",
            "Epoch: 8 [51200/60000 (85%)]\tLoss: 0.004758\n",
            "Epoch: 8 [54400/60000 (91%)]\tLoss: 0.114166\n",
            "Epoch: 8 [57600/60000 (96%)]\tLoss: 0.001629\n",
            "Epoch: 9 [0/60000 (0%)]\tLoss: 0.004292\n",
            "Epoch: 9 [3200/60000 (5%)]\tLoss: 0.001017\n",
            "Epoch: 9 [6400/60000 (11%)]\tLoss: 0.056358\n",
            "Epoch: 9 [9600/60000 (16%)]\tLoss: 0.014470\n",
            "Epoch: 9 [12800/60000 (21%)]\tLoss: 0.005496\n",
            "Epoch: 9 [16000/60000 (27%)]\tLoss: 0.082969\n",
            "Epoch: 9 [19200/60000 (32%)]\tLoss: 0.010838\n",
            "Epoch: 9 [22400/60000 (37%)]\tLoss: 0.001520\n",
            "Epoch: 9 [25600/60000 (43%)]\tLoss: 0.004729\n",
            "Epoch: 9 [28800/60000 (48%)]\tLoss: 0.016995\n",
            "Epoch: 9 [32000/60000 (53%)]\tLoss: 0.001840\n",
            "Epoch: 9 [35200/60000 (59%)]\tLoss: 0.032096\n",
            "Epoch: 9 [38400/60000 (64%)]\tLoss: 0.000423\n",
            "Epoch: 9 [41600/60000 (69%)]\tLoss: 0.003986\n",
            "Epoch: 9 [44800/60000 (75%)]\tLoss: 0.023205\n",
            "Epoch: 9 [48000/60000 (80%)]\tLoss: 0.001289\n",
            "Epoch: 9 [51200/60000 (85%)]\tLoss: 0.039748\n",
            "Epoch: 9 [54400/60000 (91%)]\tLoss: 0.043043\n",
            "Epoch: 9 [57600/60000 (96%)]\tLoss: 0.017228\n"
          ]
        }
      ]
    },
    {
      "cell_type": "code",
      "source": [
        "def test(model_pytorch):\n",
        "        # Evaluate the model on the test set\n",
        "    model_pytorch.eval()\n",
        "    test_loss = 0\n",
        "    y_true = []\n",
        "    y_pred = []\n",
        "    with torch.no_grad():\n",
        "        for data, target in test_loader:\n",
        "            data, target = data.to(device), target.to(device)\n",
        "            output = model_pytorch(data)\n",
        "            test_loss += criterion(output, target).item()\n",
        "            pred = output.argmax(dim=1, keepdim=True)\n",
        "            y_true.extend(target.cpu().numpy())\n",
        "            y_pred.extend(pred.cpu().numpy().flatten())\n",
        "    test_loss /= len(test_loader)\n",
        "    test_acc = accuracy_score(y_true, y_pred)\n",
        "    print('Test set: Average loss: {:.4f}, Accuracy: {:.2f}%\\n'.format(\n",
        "        test_loss, 100. * test_acc))"
      ],
      "metadata": {
        "id": "p7k9xOSq0Ofo"
      },
      "execution_count": null,
      "outputs": []
    },
    {
      "cell_type": "code",
      "source": [
        "test(model_pytorch)"
      ],
      "metadata": {
        "colab": {
          "base_uri": "https://localhost:8080/"
        },
        "id": "EUYmGF8W0GWM",
        "outputId": "110aa9bd-a810-42cf-fdd8-59c85799c057"
      },
      "execution_count": null,
      "outputs": [
        {
          "output_type": "stream",
          "name": "stdout",
          "text": [
            "Test set: Average loss: 0.0763, Accuracy: 98.08%\n",
            "\n"
          ]
        }
      ]
    },
    {
      "cell_type": "code",
      "source": [
        "model_pytorch.train()"
      ],
      "metadata": {
        "colab": {
          "base_uri": "https://localhost:8080/"
        },
        "id": "ylAKXzAEzrwq",
        "outputId": "82a6ad6a-67e0-4780-8b4c-6fbde96983e6"
      },
      "execution_count": null,
      "outputs": [
        {
          "output_type": "execute_result",
          "data": {
            "text/plain": [
              "Net(\n",
              "  (flatten): Flatten(start_dim=1, end_dim=-1)\n",
              "  (linear1): Linear(in_features=784, out_features=128, bias=True)\n",
              "  (relu): ReLU()\n",
              "  (linear2): Linear(in_features=128, out_features=10, bias=True)\n",
              ")"
            ]
          },
          "metadata": {},
          "execution_count": 10
        }
      ]
    },
    {
      "cell_type": "code",
      "source": [
        "model_pytorch"
      ],
      "metadata": {
        "id": "ZFwbAgwxhPhS",
        "colab": {
          "base_uri": "https://localhost:8080/"
        },
        "outputId": "3083359e-2385-433f-f615-1662967f5be5"
      },
      "execution_count": null,
      "outputs": [
        {
          "output_type": "execute_result",
          "data": {
            "text/plain": [
              "Net(\n",
              "  (flatten): Flatten(start_dim=1, end_dim=-1)\n",
              "  (linear1): Linear(in_features=784, out_features=128, bias=True)\n",
              "  (relu): ReLU()\n",
              "  (linear2): Linear(in_features=128, out_features=10, bias=True)\n",
              ")"
            ]
          },
          "metadata": {},
          "execution_count": 11
        }
      ]
    },
    {
      "cell_type": "code",
      "source": [
        "def printWnb(model):\n",
        "    \n",
        "    # print the weights and biases of each layer\n",
        "    for name, param in model.named_parameters():\n",
        "        if param.requires_grad:\n",
        "            print(name, param.data)"
      ],
      "metadata": {
        "id": "OTB_Osr1n_63"
      },
      "execution_count": null,
      "outputs": []
    },
    {
      "cell_type": "code",
      "source": [
        "printWnb(model_pytorch)"
      ],
      "metadata": {
        "colab": {
          "base_uri": "https://localhost:8080/"
        },
        "id": "5zzX1NMI0b5U",
        "outputId": "d0a20a65-2d2d-4354-c1bf-ca728161d32c"
      },
      "execution_count": null,
      "outputs": [
        {
          "output_type": "stream",
          "name": "stdout",
          "text": [
            "linear1.weight tensor([[ 0.0043, -0.0006,  0.0333,  ...,  0.0153,  0.0182,  0.0325],\n",
            "        [ 0.0190, -0.0040, -0.0301,  ..., -0.0273,  0.0283, -0.0005],\n",
            "        [ 0.0174, -0.0073,  0.0089,  ...,  0.0141,  0.0333,  0.0303],\n",
            "        ...,\n",
            "        [-0.0297, -0.0228, -0.0293,  ..., -0.0078,  0.0228,  0.0289],\n",
            "        [-0.0011,  0.0294, -0.0110,  ...,  0.0356,  0.0294,  0.0008],\n",
            "        [-0.0099, -0.0118,  0.0097,  ..., -0.0175,  0.0310,  0.0327]])\n",
            "linear1.bias tensor([ 0.2424,  0.2458, -0.2133,  0.1304, -0.0569,  0.0393, -0.0664, -0.1437,\n",
            "         0.0227, -0.0321,  0.0740,  0.0942, -0.0802, -0.0300, -0.0350,  0.2278,\n",
            "        -0.0735,  0.1122, -0.2066, -0.0826, -0.1059, -0.0217,  0.0855, -0.1763,\n",
            "         0.1094,  0.2851,  0.1237,  0.0302,  0.1036, -0.0394, -0.0493, -0.2191,\n",
            "        -0.0301, -0.2286, -0.1634,  0.2883, -0.1153, -0.0558, -0.0150,  0.0557,\n",
            "         0.0695,  0.1495,  0.1305, -0.0202,  0.0931,  0.0610, -0.0653, -0.0275,\n",
            "        -0.0511, -0.0575,  0.0658,  0.0838,  0.0074,  0.3835, -0.0916, -0.0691,\n",
            "         0.0294,  0.0655,  0.0762, -0.0362, -0.1128, -0.0073,  0.3921,  0.0253,\n",
            "         0.1139,  0.0460, -0.1369,  0.0497,  0.0886, -0.0449,  0.0638,  0.1643,\n",
            "        -0.1293,  0.0239,  0.3362, -0.0771,  0.0416,  0.2754, -0.0036,  0.1085,\n",
            "         0.0551, -0.2152, -0.1036,  0.0487,  0.1341, -0.0653,  0.1845,  0.0284,\n",
            "         0.0299,  0.1163, -0.0721,  0.0113,  0.2858, -0.2470, -0.0496,  0.0465,\n",
            "        -0.1025,  0.1213, -0.0432,  0.1141,  0.0405, -0.0148,  0.0393,  0.3105,\n",
            "        -0.0117,  0.0444,  0.1771,  0.0042, -0.0438, -0.2798,  0.1683, -0.1161,\n",
            "        -0.0051, -0.0980, -0.0375,  0.2802,  0.1152, -0.0932,  0.0866, -0.0267,\n",
            "        -0.0582,  0.0537,  0.0641,  0.0718, -0.1532, -0.1630, -0.1100,  0.0589])\n",
            "linear2.weight tensor([[-0.2603, -0.0683,  0.0484,  ..., -0.7682,  0.3221, -0.1345],\n",
            "        [ 0.0985, -0.2728, -0.0900,  ...,  0.1713,  0.1058, -0.4659],\n",
            "        [-0.4630,  0.3353,  0.0410,  ...,  0.3854,  0.2420,  0.1100],\n",
            "        ...,\n",
            "        [ 0.0616,  0.1031,  0.1148,  ...,  0.2654,  0.2784, -0.7534],\n",
            "        [-0.0125, -0.1333,  0.1216,  ..., -0.1323, -0.2419, -0.1295],\n",
            "        [ 0.1163, -0.5434,  0.0920,  ..., -0.8818,  0.1760,  0.3912]])\n",
            "linear2.bias tensor([-0.1173,  0.0747, -0.0762, -0.1350,  0.1391,  0.1461,  0.0674, -0.0675,\n",
            "         0.2069, -0.1191])\n"
          ]
        }
      ]
    },
    {
      "cell_type": "code",
      "source": [
        "\n",
        "quantized_model_dynamic = torch.quantization.quantize_dynamic(model_pytorch, {nn.Conv2d, nn.Linear}, dtype=torch.qint8)\n",
        "\n",
        "\n"
      ],
      "metadata": {
        "id": "D6sLHDnl7p29"
      },
      "execution_count": null,
      "outputs": []
    },
    {
      "cell_type": "code",
      "source": [
        "printWnb(quantized_model_dynamic)"
      ],
      "metadata": {
        "id": "ypiVoj4ONI2K"
      },
      "execution_count": null,
      "outputs": []
    },
    {
      "cell_type": "code",
      "source": [
        "def print_size_of_model(model):\n",
        "    torch.save(model.state_dict(), \"temp.p\")\n",
        "    print('Size (MB):', os.path.getsize(\"temp.p\")/1e6)\n",
        "    os.remove('temp.p')\n",
        "\n",
        "\n"
      ],
      "metadata": {
        "id": "A1QGPAeVrjro"
      },
      "execution_count": null,
      "outputs": []
    },
    {
      "cell_type": "code",
      "source": [
        "print_size_of_model(model_pytorch)"
      ],
      "metadata": {
        "colab": {
          "base_uri": "https://localhost:8080/"
        },
        "id": "Ti4CJPHuyp3o",
        "outputId": "5e3e9a58-3347-4a76-9ce1-42ee49103df8"
      },
      "execution_count": null,
      "outputs": [
        {
          "output_type": "stream",
          "name": "stdout",
          "text": [
            "Size (MB): 0.408525\n"
          ]
        }
      ]
    },
    {
      "cell_type": "code",
      "source": [
        "print_size_of_model(quantized_model_dynamic)"
      ],
      "metadata": {
        "colab": {
          "base_uri": "https://localhost:8080/"
        },
        "id": "IXzADu-59Fcc",
        "outputId": "d79610d1-0677-4161-df6f-ea7136f53a9e"
      },
      "execution_count": null,
      "outputs": [
        {
          "output_type": "stream",
          "name": "stdout",
          "text": [
            "Size (MB): 0.105009\n"
          ]
        }
      ]
    },
    {
      "cell_type": "code",
      "source": [
        "\n",
        "# Print the named parameters of the model\n",
        "for name, param in quantized_model_dynamic.named_parameters():\n",
        "    print(name, param)\n"
      ],
      "metadata": {
        "id": "XoMAllCQ3Gy3"
      },
      "execution_count": null,
      "outputs": []
    },
    {
      "cell_type": "code",
      "source": [
        "test(quantized_model_dynamic)"
      ],
      "metadata": {
        "colab": {
          "base_uri": "https://localhost:8080/"
        },
        "id": "izhRPZ4y9sjM",
        "outputId": "ba8b7411-103e-4a58-b922-0023a924391d"
      },
      "execution_count": null,
      "outputs": [
        {
          "output_type": "stream",
          "name": "stdout",
          "text": [
            "Test set: Average loss: 0.0767, Accuracy: 98.06%\n",
            "\n"
          ]
        }
      ]
    },
    {
      "cell_type": "code",
      "source": [
        "test(model_pytorch)"
      ],
      "metadata": {
        "colab": {
          "base_uri": "https://localhost:8080/"
        },
        "id": "dVI7QyOA9xBy",
        "outputId": "2fc7fe73-2919-4082-f4cd-1d4c65c80835"
      },
      "execution_count": null,
      "outputs": [
        {
          "output_type": "stream",
          "name": "stdout",
          "text": [
            "Test set: Average loss: 0.0763, Accuracy: 98.08%\n",
            "\n"
          ]
        }
      ]
    },
    {
      "cell_type": "code",
      "source": [
        "import torch\n",
        "import torchvision.models as models\n",
        "\n",
        "# Load a pre-trained model\n",
        "#model = models.resnet18(pretrained=True)\n",
        "\n",
        "# Check if the model has learnable parameters\n",
        "params = list(model_pytorch.parameters())\n",
        "if len(params) == 0:\n",
        "    print(\"Model does not have any learnable parameters\")\n",
        "else:\n",
        "    print(\"Model has learnable parameters\")\n"
      ],
      "metadata": {
        "colab": {
          "base_uri": "https://localhost:8080/"
        },
        "id": "dA7WZbYw3Sv1",
        "outputId": "3d71682e-23a2-42ab-e62a-9eec2cbf32bc"
      },
      "execution_count": null,
      "outputs": [
        {
          "output_type": "stream",
          "name": "stdout",
          "text": [
            "Model has learnable parameters\n"
          ]
        }
      ]
    },
    {
      "cell_type": "code",
      "source": [
        "import torch\n",
        "import torchvision.models as models\n",
        "\n",
        "\n",
        "# Check if the model has learnable parameters\n",
        "params = list(quantized_model_dynamic.parameters())\n",
        "if len(params) == 0:\n",
        "    print(\"Model does not have any learnable parameters\")\n",
        "else:\n",
        "    print(\"Model has learnable parameters\")"
      ],
      "metadata": {
        "colab": {
          "base_uri": "https://localhost:8080/"
        },
        "id": "9gsEneHfMmAF",
        "outputId": "186bc675-e39f-4d24-e9ca-cae383e95bbf"
      },
      "execution_count": null,
      "outputs": [
        {
          "output_type": "stream",
          "name": "stdout",
          "text": [
            "Model does not have any learnable parameters\n"
          ]
        }
      ]
    }
  ]
}